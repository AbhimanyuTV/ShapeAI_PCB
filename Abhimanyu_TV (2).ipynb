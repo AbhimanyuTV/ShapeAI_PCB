{
  "nbformat": 4,
  "nbformat_minor": 0,
  "metadata": {
    "colab": {
      "name": "Abhimanyu_TV.ipynb",
      "provenance": [],
      "collapsed_sections": []
    },
    "kernelspec": {
      "name": "python3",
      "display_name": "Python 3"
    },
    "language_info": {
      "name": "python"
    }
  },
  "cells": [
    {
      "cell_type": "code",
      "metadata": {
        "colab": {
          "base_uri": "https://localhost:8080/"
        },
        "id": "hYitufnSuvRH",
        "outputId": "88d2aeb6-01fa-4d28-ebac-a8ac96776f87"
      },
      "source": [
        "import requests\n",
        "#import os\n",
        "from datetime import datetime\n",
        " \n",
        "api_key = '87d845b0b6cf29baa1a73cc34b067a95'\n",
        "location = input(\"Enter the city name: \")\n",
        " \n",
        "complete_api_link = \"https://api.openweathermap.org/data/2.5/weather?q=\"+location+\"&appid=\"+api_key\n",
        "api_link = requests.get(complete_api_link)\n",
        "api_data = api_link.json()\n",
        " \n",
        "#create variables to store and display data\n",
        "temp_city = ((api_data['main']['temp']) - 273.15)\n",
        "weather_desc = api_data['weather'][0]['description']\n",
        "hmdt = api_data['main']['humidity']\n",
        "wind_spd = api_data['wind']['speed']\n",
        "date_time = datetime.now().strftime(\"%d %b %Y | %I:%M:%S %p\")\n",
        " \n",
        "print (\"-------------------------------------------------------------\")\n",
        "print (\"Weather Stats for - {}  || {}\".format(location.upper(), date_time))\n",
        "print (\"-------------------------------------------------------------\")\n",
        " \n",
        "print (\"Current temperature is: {:.2f} deg C\".format(temp_city))\n",
        "print (\"Current weather desc  :\",weather_desc)\n",
        "print (\"Current Humidity      :\",hmdt, '%')\n",
        "print (\"Current wind speed    :\",wind_spd ,'kmph')\n",
        " \n",
        "with open('op_example.txt','wt') as t:\n",
        "  t.write(\"-------------------------------------------------------------\\n\")\n",
        "  t.write(\"Weather Stats for - {}  || {}\\n\".format(location.upper(), date_time))\n",
        "  t.write(\"-------------------------------------------------------------\\n\")\n",
        "  t.write(\"Current temperature is: {:.2f} deg C\\n\".format(temp_city))\n",
        "  t.write(\"Current weather desc  : {}\\n\".format(weather_desc))\n",
        "  t.write(\"Current Humidity      : {}\\n\".format(hmdt, '%'))\n",
        "  t.write(\"Current wind speed    : {}\\n\".format(wind_spd ,'kmph'))"
      ],
      "execution_count": 3,
      "outputs": [
        {
          "output_type": "stream",
          "text": [
            "Enter the city name: KASARAGOD\n",
            "-------------------------------------------------------------\n",
            "Weather Stats for - KASARAGOD  || 22 Jun 2021 | 05:26:18 PM\n",
            "-------------------------------------------------------------\n",
            "Current temperature is: 27.59 deg C\n",
            "Current weather desc  : overcast clouds\n",
            "Current Humidity      : 87 %\n",
            "Current wind speed    : 2.06 kmph\n"
          ],
          "name": "stdout"
        }
      ]
    }
  ]
}